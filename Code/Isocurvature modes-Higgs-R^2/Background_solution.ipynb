{
 "cells": [
  {
   "cell_type": "code",
   "execution_count": 1,
   "metadata": {},
   "outputs": [
    {
     "name": "stderr",
     "output_type": "stream",
     "text": [
      "Bad value in file PosixPath('/Users/flaviopineda/.matplotlib/stylelib/style.mplstyle'), line 50 (\"axes.prop_cycle : cycler('color', ['#1F77B4', '#D62728', '#2CA02C', '#FF7F0E', '#7F7F7F', '#9467BD'])\"): Key axes.prop_cycle: \"cycler('color', ['\" is not a valid cycler construction: EOL while scanning string literal (<unknown>, line 1)\n"
     ]
    }
   ],
   "source": [
    "import numpy as np\n",
    "from scipy.integrate import solve_ivp\n",
    "from scipy.interpolate import interp1d\n",
    "\n",
    "import matplotlib.pyplot as plt\n",
    "from matplotlib import rc\n",
    "\n",
    "\n",
    "\n",
    "###Plot settings:\n",
    "plt.rc('text', usetex=True)\n",
    "plt.rcParams['text.usetex'] = True  # Mantén LaTeX activado para fuentes\n",
    "plt.rcParams['text.latex.preamble']=r'\\usepackage{amsmath}'\n",
    "plt.rcParams['text.latex.preamble'] = r'\\boldmath'\n",
    "\n",
    "plt.rcParams['xtick.direction'] = 'in'\n",
    "plt.rcParams['ytick.direction'] = 'in'\n",
    "plt.rcParams['xtick.major.size'] = 2\n",
    "plt.rcParams['xtick.major.width'] = 1\n",
    "plt.rcParams['ytick.major.size'] = 2\n",
    "plt.rcParams['ytick.major.width'] = 1\n",
    "plt.rcParams['xtick.labelsize'] = 12\n",
    "plt.rcParams['ytick.labelsize'] = 12\n",
    "plt.rcParams['xtick.top'] = True\n",
    "plt.rcParams['ytick.right'] = True"
   ]
  },
  {
   "cell_type": "code",
   "execution_count": 2,
   "metadata": {},
   "outputs": [],
   "source": [
    "#Numerical parameters. We use natural units. \n",
    "\n",
    "M_p = 1;                        #Reduced mass Planck\n",
    "M = 1.3e-5;                 #Scalaron mass\n",
    "lambda_h = 1e-10;               #auto-coupling Higgs constant\n",
    "xi_s = 1/(3*M**2);         #Dimensionless scalaron mass\n",
    "xi_h = 0.1    #new constant coupling \n",
    "alpha = np.sqrt(2/3); "
   ]
  },
  {
   "cell_type": "code",
   "execution_count": 3,
   "metadata": {},
   "outputs": [],
   "source": [
    "#Potential and its first derivatives \n",
    "\n",
    "def V(phi,h):\n",
    "    return np.exp(-2*alpha*phi)*(lambda_h*h**4 + (np.exp(alpha*phi) - 1 - xi_h*h**2)**2/xi_s)/4\n",
    "\n",
    "def V_phi(phi, h):\n",
    "    return np.exp(-2*alpha*phi)*((1 + xi_h*h**2)*(np.exp(alpha*phi) -1 - xi_h*h**2) - lambda_h*xi_s*h**4)/(np.sqrt(6)*xi_s)\n",
    "\n",
    "def V_h(phi, h):\n",
    "    return np.exp(-2*alpha*phi)*h*(-xi_h*(np.exp(alpha*phi) -1 - xi_h*h**2) +lambda_h*xi_s*h**2)/xi_s"
   ]
  },
  {
   "cell_type": "code",
   "execution_count": 4,
   "metadata": {},
   "outputs": [],
   "source": [
    "\n",
    "#Initial conditions to numerically solve the background equations of motion for Higgs-R^2 model. We need choose a suitable initial conditions for phi, h \n",
    "#and scale factor a. We use dimenssionless variables \n",
    "\n",
    "phi_0 = 5.7;    #Initial scalaron value.\n",
    "h_0 = np.sqrt(xi_h*(np.exp(alpha*phi_0) -1)/(xi_h**2 + lambda_h*xi_s));   #Initial Higgs value along the vallyes of the potential \n",
    "y_0 = 0;    #Initial scalaron velocity\n",
    "z_0 = 0;    #Initial Higgs velocity\n",
    "H_0 = np.sqrt((y_0**2 + np.exp(-alpha*phi_0)*z_0**2 + 2*V(phi_0, h_0))/6); #Initial value of Hubble Parameter in M units\n",
    "a_0 =  1e-3;     #Initial value of scale factor\n",
    "N_0 = 0;    #Initial value of number of e-folds \n",
    "F0 = [phi_0, y_0, h_0, z_0, H_0, a_0, N_0]; #Array of initial conditions"
   ]
  },
  {
   "cell_type": "code",
   "execution_count": 5,
   "metadata": {},
   "outputs": [],
   "source": [
    "#Sytem of ODE's we have to solve in order to find the number of e-folds and background dynamics\n",
    "\n",
    "def dFdt(t, F):\n",
    "    [phi, y, h, z, H, a, N] = F\n",
    "\n",
    "    dphidt = y;\n",
    "    dydt = -3*H*y - 0.5*alpha*np.exp(-alpha*phi)*z**2-V_phi(phi,h);\n",
    "    dhdt = z;\n",
    "    dzdt = -3*H*z + alpha*y*z - np.exp(alpha*phi)*V_h(phi,h);\n",
    "    dHdt = -0.5*(y**2+np.exp(-alpha*phi)*z**2);\n",
    "    dadt = a*H;\n",
    "    dNdt = H;\n",
    "\n",
    "    return [dphidt, dydt, dhdt, dzdt, dHdt, dadt, dNdt]"
   ]
  },
  {
   "cell_type": "code",
   "execution_count": 6,
   "metadata": {},
   "outputs": [],
   "source": [
    "#Solutions with solve-ivp ODE's solver \n",
    "teval = np.linspace(0, 2e7, 10000)\n",
    "sol = solve_ivp(dFdt, t_span = [0, 2e7], y0 = F0, t_eval = None, method= \"LSODA\", rtol = 1e-5, atol = 1e-10)\n",
    "t = sol.t\n",
    "phi, y, h, z, H, a, N = sol.y\n",
    "\n",
    "#Time derivative of Hubble parameter \n",
    "dHdt = np.gradient(H, t)"
   ]
  },
  {
   "cell_type": "code",
   "execution_count": 7,
   "metadata": {},
   "outputs": [],
   "source": [
    "#When does inflation end?\n",
    "\n",
    "epsilon = - dHdt/H**2\n",
    "end_inflation_index = np.argmax(epsilon >= 1)\n",
    "t_end = t[end_inflation_index]"
   ]
  },
  {
   "cell_type": "code",
   "execution_count": 8,
   "metadata": {},
   "outputs": [
    {
     "data": {
      "text/plain": [
       "np.float64(82.4370077440902)"
      ]
     },
     "execution_count": 8,
     "metadata": {},
     "output_type": "execute_result"
    }
   ],
   "source": [
    "Nt = N[end_inflation_index];  #Total number of e-folds  \n",
    "Ne = Nt - N;    #Efolds before the end of inflation\n",
    "aH = a*H;    #Comoving Hubble radius\n",
    "Nt"
   ]
  },
  {
   "cell_type": "code",
   "execution_count": 9,
   "metadata": {},
   "outputs": [
    {
     "name": "stderr",
     "output_type": "stream",
     "text": [
      "/var/folders/ym/g3zmjphd5kj9rmvdfmq2bpgr0000gn/T/ipykernel_43576/2172911536.py:5: RuntimeWarning: invalid value encountered in divide\n",
      "  eta_perp = V_s/(H*dot_sigma**2)\n"
     ]
    }
   ],
   "source": [
    "#Background velocity \n",
    "dot_sigma = np.sqrt(y**2 + np.exp(-alpha*phi)*z**2)\n",
    "V_s = np.exp(alpha*phi/2)*(V_h(phi, h)*y - np.exp(-alpha*phi)*V_phi(phi, h)*z) \n",
    "\n",
    "eta_perp = V_s/(H*dot_sigma**2)"
   ]
  },
  {
   "cell_type": "code",
   "execution_count": 10,
   "metadata": {},
   "outputs": [
    {
     "data": {
      "image/png": "[encoded data removed]",
      "text/plain": [
       "<Figure size 600x400 with 1 Axes>"
      ]
     },
     "metadata": {},
     "output_type": "display_data"
    }
   ],
   "source": [
    "\n",
    "# Ajusta el tamaño de la figura si es necesario para publicaciones\n",
    "plt.figure(figsize=(6, 4))\n",
    "\n",
    "# Ajustes de los ticks\n",
    "plt.tick_params(axis='both', direction=\"in\", labelsize=13, top=True, right=True)\n",
    "plt.tick_params(axis=\"both\", which='minor', direction='in', top=True, right=True)\n",
    "\n",
    "\n",
    "# Etiquetas de los ejes\n",
    "plt.xlabel(r\"$h\\,[M_p]$\", fontsize=14)\n",
    "plt.ylabel(r\"$\\phi\\,[M_p]$\", fontsize=14)\n",
    "\n",
    "# Gráficas con colores y grosores adecuados\n",
    "plt.plot(h, phi, color='#1f77b4', linewidth=1.5)\n",
    "\n",
    "# Ajuste de los márgenes para evitar que elementos se corten\n",
    "plt.tight_layout()\n",
    "\n",
    "# Muestra la gráfica o guarda la imagen\n",
    "#plt.savefig('trayectory_class4.png', dpi=300, bbox_inches='tight', pad_inches=0.1, format='png')"
   ]
  },
  {
   "cell_type": "code",
   "execution_count": 11,
   "metadata": {},
   "outputs": [
    {
     "data": {
      "image/png": "[encoded data removed]",
      "text/plain": [
       "<Figure size 600x400 with 1 Axes>"
      ]
     },
     "metadata": {},
     "output_type": "display_data"
    }
   ],
   "source": [
    "\n",
    "# Ajusta el tamaño de la figura si es necesario para publicaciones\n",
    "plt.figure(figsize=(6, 4))\n",
    "\n",
    "# Ajustes de los ticks\n",
    "plt.tick_params(axis='both', direction=\"in\", labelsize=13, top=True, right=True)\n",
    "plt.tick_params(axis=\"both\", which='minor', direction='in', top=True, right=True)\n",
    "\n",
    "\n",
    "# Etiquetas de los ejes\n",
    "plt.xlabel(r\"$N$\", fontsize=14)\n",
    "plt.ylabel(r\"$\\eta_\\perp$\", fontsize=14)\n",
    "\n",
    "# Gráficas con colores y grosores adecuados\n",
    "plt.semilogy(N, abs(eta_perp), color='#1f77b4', linewidth=1.5)\n",
    "\n",
    "# Ajuste de los márgenes para evitar que elementos se corten\n",
    "plt.tight_layout()\n",
    "\n",
    "#plt.axvline( x = Nt, color=\"red\", linestyle=\"--\", label=\"End of inflation\")\n",
    "#plt.xticks(ticks=[10, 20, 30, 40, 50, 60, Nt], labels=[10, 20, 30, 40, 50, 60, r\"$N_\\mathrm{tot}$\"])\n",
    "\n",
    "# Muestra la gráfica o guarda la imagen\n",
    "#plt.savefig('bending_class4.png', dpi=300, bbox_inches='tight', pad_inches=0.1, format='png')\n"
   ]
  },
  {
   "cell_type": "code",
   "execution_count": 12,
   "metadata": {},
   "outputs": [
    {
     "name": "stdout",
     "output_type": "stream",
     "text": [
      "\n",
      "\t--- Data saved successfully : inf_bg_data ---\n",
      "\n"
     ]
    }
   ],
   "source": [
    "np.savetxt('data/inf_bg_data', np.c_[t, phi, y, h, z, H, a, N, Ne, aH])\n",
    "print('\\n\\t--- Data saved successfully : inf_bg_data ---\\n')"
   ]
  },
  {
   "cell_type": "code",
   "execution_count": null,
   "metadata": {},
   "outputs": [],
   "source": []
  }
 ],
 "metadata": {
  "kernelspec": {
   "display_name": "Python 3",
   "language": "python",
   "name": "python3"
  },
  "language_info": {
   "codemirror_mode": {
    "name": "ipython",
    "version": 3
   },
   "file_extension": ".py",
   "mimetype": "text/x-python",
   "name": "python",
   "nbconvert_exporter": "python",
   "pygments_lexer": "ipython3",
   "version": "3.9.6"
  }
 },
 "nbformat": 4,
 "nbformat_minor": 2
}
